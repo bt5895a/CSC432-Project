{
 "metadata": {
  "name": "Project_BRITTANYTRAEGER"
 },
 "nbformat": 3,
 "nbformat_minor": 0,
 "worksheets": [
  {
   "cells": [
    {
     "cell_type": "code",
     "collapsed": false,
     "input": [
      "import numpy as np\n",
      "import matplotlib.pyplot as plt\n",
      "import pandas as pd\n",
      "from scipy import stats\n",
      "from urllib2 import urlopen\n",
      "from pandas.io.data import DataReader\n",
      "import patsy\n",
      "from sklearn import svm, datasets\n",
      "import statsmodels.api as sm\n",
      "from itertools import cycle\n",
      "from statsmodels.formula.api import ols\n",
      "from statsmodels.graphics.regressionplots import plot_partregress"
     ],
     "language": "python",
     "metadata": {},
     "outputs": [],
     "prompt_number": 1
    },
    {
     "cell_type": "code",
     "collapsed": false,
     "input": [
      "male_unemp_percent = DataReader(\"LNS14000001\", \"fred\", start=\"1/1/1949\")#MONTHLY, SEASONALLY ADJUSTED \n",
      "print male_unemp_percent\n",
      "male_unemp_percent.describe()"
     ],
     "language": "python",
     "metadata": {},
     "outputs": [
      {
       "output_type": "stream",
       "stream": "stdout",
       "text": [
        "<class 'pandas.core.frame.DataFrame'>\n",
        "DatetimeIndex: 772 entries, 1949-01-01 00:00:00 to 2013-04-01 00:00:00\n",
        "Data columns:\n",
        "LNS14000001    772  non-null values\n",
        "dtypes: float64(1)\n"
       ]
      },
      {
       "html": [
        "<div style=\"max-height:1000px;max-width:1500px;overflow:auto;\">\n",
        "<table border=\"1\" class=\"dataframe\">\n",
        "  <thead>\n",
        "    <tr style=\"text-align: right;\">\n",
        "      <th></th>\n",
        "      <th>LNS14000001</th>\n",
        "    </tr>\n",
        "  </thead>\n",
        "  <tbody>\n",
        "    <tr>\n",
        "      <td><strong>count</strong></td>\n",
        "      <td> 772.000000</td>\n",
        "    </tr>\n",
        "    <tr>\n",
        "      <td><strong>mean</strong></td>\n",
        "      <td>   5.686528</td>\n",
        "    </tr>\n",
        "    <tr>\n",
        "      <td><strong>std</strong></td>\n",
        "      <td>   1.889276</td>\n",
        "    </tr>\n",
        "    <tr>\n",
        "      <td><strong>min</strong></td>\n",
        "      <td>   2.300000</td>\n",
        "    </tr>\n",
        "    <tr>\n",
        "      <td><strong>25%</strong></td>\n",
        "      <td>   4.475000</td>\n",
        "    </tr>\n",
        "    <tr>\n",
        "      <td><strong>50%</strong></td>\n",
        "      <td>   5.400000</td>\n",
        "    </tr>\n",
        "    <tr>\n",
        "      <td><strong>75%</strong></td>\n",
        "      <td>   6.900000</td>\n",
        "    </tr>\n",
        "    <tr>\n",
        "      <td><strong>max</strong></td>\n",
        "      <td>  11.200000</td>\n",
        "    </tr>\n",
        "  </tbody>\n",
        "</table>\n",
        "</div>"
       ],
       "output_type": "pyout",
       "prompt_number": 2,
       "text": [
        "       LNS14000001\n",
        "count   772.000000\n",
        "mean      5.686528\n",
        "std       1.889276\n",
        "min       2.300000\n",
        "25%       4.475000\n",
        "50%       5.400000\n",
        "75%       6.900000\n",
        "max      11.200000"
       ]
      }
     ],
     "prompt_number": 2
    },
    {
     "cell_type": "code",
     "collapsed": false,
     "input": [
      "female_unemp_percent = DataReader(\"LNS14000002\", \"fred\", start=\"1/1/1949\")#MONTHLY, SEASONALLY ADJUSTED \n",
      "print female_unemp_percent\n",
      "female_unemp_percent.describe()"
     ],
     "language": "python",
     "metadata": {},
     "outputs": [
      {
       "output_type": "stream",
       "stream": "stdout",
       "text": [
        "<class 'pandas.core.frame.DataFrame'>\n",
        "DatetimeIndex: 772 entries, 1949-01-01 00:00:00 to 2013-04-01 00:00:00\n",
        "Data columns:\n",
        "LNS14000002    772  non-null values\n",
        "dtypes: float64(1)\n"
       ]
      },
      {
       "html": [
        "<div style=\"max-height:1000px;max-width:1500px;overflow:auto;\">\n",
        "<table border=\"1\" class=\"dataframe\">\n",
        "  <thead>\n",
        "    <tr style=\"text-align: right;\">\n",
        "      <th></th>\n",
        "      <th>LNS14000002</th>\n",
        "    </tr>\n",
        "  </thead>\n",
        "  <tbody>\n",
        "    <tr>\n",
        "      <td><strong>count</strong></td>\n",
        "      <td> 772.000000</td>\n",
        "    </tr>\n",
        "    <tr>\n",
        "      <td><strong>mean</strong></td>\n",
        "      <td>   6.154275</td>\n",
        "    </tr>\n",
        "    <tr>\n",
        "      <td><strong>std</strong></td>\n",
        "      <td>   1.450889</td>\n",
        "    </tr>\n",
        "    <tr>\n",
        "      <td><strong>min</strong></td>\n",
        "      <td>   2.700000</td>\n",
        "    </tr>\n",
        "    <tr>\n",
        "      <td><strong>25%</strong></td>\n",
        "      <td>   5.100000</td>\n",
        "    </tr>\n",
        "    <tr>\n",
        "      <td><strong>50%</strong></td>\n",
        "      <td>   6.000000</td>\n",
        "    </tr>\n",
        "    <tr>\n",
        "      <td><strong>75%</strong></td>\n",
        "      <td>   7.100000</td>\n",
        "    </tr>\n",
        "    <tr>\n",
        "      <td><strong>max</strong></td>\n",
        "      <td>  10.400000</td>\n",
        "    </tr>\n",
        "  </tbody>\n",
        "</table>\n",
        "</div>"
       ],
       "output_type": "pyout",
       "prompt_number": 3,
       "text": [
        "       LNS14000002\n",
        "count   772.000000\n",
        "mean      6.154275\n",
        "std       1.450889\n",
        "min       2.700000\n",
        "25%       5.100000\n",
        "50%       6.000000\n",
        "75%       7.100000\n",
        "max      10.400000"
       ]
      }
     ],
     "prompt_number": 3
    },
    {
     "cell_type": "code",
     "collapsed": false,
     "input": [
      "#plot male and female unemployment \n",
      "fig, ax = plt.subplots()\n",
      "ax = male_unemp_percent.plot(ax=ax)\n",
      "lines = ax.lines\n",
      "lines[0].set_label(\"Male Unemployment\")\n",
      "lines[0].set_color(\"blue\")\n",
      "ax = female_unemp_percent.plot(ax=ax)\n",
      "lines[1].set_label(\"Female Unemployment\")\n",
      "lines[1].set_color(\"red\")\n",
      "\n",
      "lines = ax.lines\n",
      "\n",
      "ax.legend()"
     ],
     "language": "python",
     "metadata": {},
     "outputs": [
      {
       "output_type": "pyout",
       "prompt_number": 4,
       "text": [
        "<matplotlib.legend.Legend at 0x11def4e0>"
       ]
      },
      {
       "output_type": "display_data",
       "png": "[encoded data removed]"
      }
     ],
     "prompt_number": 4
    },
    {
     "cell_type": "code",
     "collapsed": false,
     "input": [
      "indust_prod = DataReader(\"INDPRO\", \"fred\", start=\"1/1/1949\")#MONTHLY, SEASONALLY ADJUSTED INDUSTRIAL PROD.\n",
      "print indust_prod\n",
      "indust_prod.describe()"
     ],
     "language": "python",
     "metadata": {},
     "outputs": [
      {
       "output_type": "stream",
       "stream": "stdout",
       "text": [
        "<class 'pandas.core.frame.DataFrame'>\n",
        "DatetimeIndex: 771 entries, 1949-01-01 00:00:00 to 2013-03-01 00:00:00\n",
        "Data columns:\n",
        "INDPRO    771  non-null values\n",
        "dtypes: float64(1)\n"
       ]
      },
      {
       "html": [
        "<div style=\"max-height:1000px;max-width:1500px;overflow:auto;\">\n",
        "<table border=\"1\" class=\"dataframe\">\n",
        "  <thead>\n",
        "    <tr style=\"text-align: right;\">\n",
        "      <th></th>\n",
        "      <th>INDPRO</th>\n",
        "    </tr>\n",
        "  </thead>\n",
        "  <tbody>\n",
        "    <tr>\n",
        "      <td><strong>count</strong></td>\n",
        "      <td> 771.000000</td>\n",
        "    </tr>\n",
        "    <tr>\n",
        "      <td><strong>mean</strong></td>\n",
        "      <td>  53.722487</td>\n",
        "    </tr>\n",
        "    <tr>\n",
        "      <td><strong>std</strong></td>\n",
        "      <td>  26.669895</td>\n",
        "    </tr>\n",
        "    <tr>\n",
        "      <td><strong>min</strong></td>\n",
        "      <td>  13.150100</td>\n",
        "    </tr>\n",
        "    <tr>\n",
        "      <td><strong>25%</strong></td>\n",
        "      <td>  30.312350</td>\n",
        "    </tr>\n",
        "    <tr>\n",
        "      <td><strong>50%</strong></td>\n",
        "      <td>  50.660200</td>\n",
        "    </tr>\n",
        "    <tr>\n",
        "      <td><strong>75%</strong></td>\n",
        "      <td>  78.425850</td>\n",
        "    </tr>\n",
        "    <tr>\n",
        "      <td><strong>max</strong></td>\n",
        "      <td> 100.820000</td>\n",
        "    </tr>\n",
        "  </tbody>\n",
        "</table>\n",
        "</div>"
       ],
       "output_type": "pyout",
       "prompt_number": 5,
       "text": [
        "           INDPRO\n",
        "count  771.000000\n",
        "mean    53.722487\n",
        "std     26.669895\n",
        "min     13.150100\n",
        "25%     30.312350\n",
        "50%     50.660200\n",
        "75%     78.425850\n",
        "max    100.820000"
       ]
      }
     ],
     "prompt_number": 5
    },
    {
     "cell_type": "code",
     "collapsed": false,
     "input": [
      "#PLOT THE GROWTH RATE OF INDUSTRIAL PRODUCTION INDEX\n",
      "fig, ax = plt.subplots()\n",
      "ax = indust_prod.plot(ax=ax)\n",
      "lines = ax.lines\n",
      "lines[0].set_label(\"Industrial Production\")\n",
      "lines[0].set_color(\"k\")\n",
      "\n",
      "lines = ax.lines\n",
      "\n",
      "ax.legend()"
     ],
     "language": "python",
     "metadata": {},
     "outputs": [
      {
       "output_type": "pyout",
       "prompt_number": 6,
       "text": [
        "<matplotlib.legend.Legend at 0x11d06748>"
       ]
      },
      {
       "output_type": "display_data",
       "png": "[encoded data removed]"
      }
     ],
     "prompt_number": 6
    },
    {
     "cell_type": "code",
     "collapsed": false,
     "input": [
      "growthrate_indust_prod = indust_prod.pct_change()*100 #PERCENT CHANGE\n",
      "growthrate_indust_prod.head()"
     ],
     "language": "python",
     "metadata": {},
     "outputs": [
      {
       "html": [
        "<div style=\"max-height:1000px;max-width:1500px;overflow:auto;\">\n",
        "<table border=\"1\" class=\"dataframe\">\n",
        "  <thead>\n",
        "    <tr style=\"text-align: right;\">\n",
        "      <th></th>\n",
        "      <th>INDPRO</th>\n",
        "    </tr>\n",
        "    <tr>\n",
        "      <th>DATE</th>\n",
        "      <th></th>\n",
        "    </tr>\n",
        "  </thead>\n",
        "  <tbody>\n",
        "    <tr>\n",
        "      <td><strong>1949-01-01</strong></td>\n",
        "      <td>      NaN</td>\n",
        "    </tr>\n",
        "    <tr>\n",
        "      <td><strong>1949-02-01</strong></td>\n",
        "      <td>-0.950681</td>\n",
        "    </tr>\n",
        "    <tr>\n",
        "      <td><strong>1949-03-01</strong></td>\n",
        "      <td>-1.918896</td>\n",
        "    </tr>\n",
        "    <tr>\n",
        "      <td><strong>1949-04-01</strong></td>\n",
        "      <td>-0.587004</td>\n",
        "    </tr>\n",
        "    <tr>\n",
        "      <td><strong>1949-05-01</strong></td>\n",
        "      <td>-1.378253</td>\n",
        "    </tr>\n",
        "  </tbody>\n",
        "</table>\n",
        "</div>"
       ],
       "output_type": "pyout",
       "prompt_number": 7,
       "text": [
        "              INDPRO\n",
        "DATE                \n",
        "1949-01-01       NaN\n",
        "1949-02-01 -0.950681\n",
        "1949-03-01 -1.918896\n",
        "1949-04-01 -0.587004\n",
        "1949-05-01 -1.378253"
       ]
      }
     ],
     "prompt_number": 7
    },
    {
     "cell_type": "code",
     "collapsed": false,
     "input": [
      "#PLOT THE GROWTH RATE OF INDUSTRIAL PRODUCTION INDEX\n",
      "fig, ax = plt.subplots()\n",
      "ax = growthrate_indust_prod.plot(ax=ax)\n",
      "lines = ax.lines\n",
      "lines[0].set_label(\"Growth Rate\")\n",
      "lines[0].set_color(\"k\")\n",
      "\n",
      "lines = ax.lines\n",
      "\n",
      "ax.legend()"
     ],
     "language": "python",
     "metadata": {},
     "outputs": [
      {
       "output_type": "pyout",
       "prompt_number": 8,
       "text": [
        "<matplotlib.legend.Legend at 0x11f98c18>"
       ]
      },
      {
       "output_type": "display_data",
       "png": "[encoded data removed]"
      }
     ],
     "prompt_number": 8
    },
    {
     "cell_type": "code",
     "collapsed": false,
     "input": [
      "#PLOT ALL UNEMPLOYMENT AND GROWTH RATE OF IND. PROD.\n",
      "fig, ax = plt.subplots()\n",
      "ax = male_unemp_percent.plot(ax=ax)\n",
      "lines = ax.lines\n",
      "lines[0].set_label(\"Male Unemployment\")\n",
      "lines[0].set_color(\"blue\")\n",
      "ax = female_unemp_percent.plot(ax=ax)\n",
      "lines[1].set_label(\"Female Unemployment\")\n",
      "lines[1].set_color(\"red\")\n",
      "ax = growthrate_indust_prod.plot(ax=ax)\n",
      "lines[2].set_label(\"Growth Rate Industrial Production\")\n",
      "lines[2].set_color(\"k\")\n",
      "\n",
      "lines = ax.lines\n",
      "\n",
      "ax.legend()"
     ],
     "language": "python",
     "metadata": {},
     "outputs": [
      {
       "output_type": "pyout",
       "prompt_number": 9,
       "text": [
        "<matplotlib.legend.Legend at 0x125aaba8>"
       ]
      },
      {
       "output_type": "display_data",
       "png": "[encoded data removed]"
      }
     ],
     "prompt_number": 9
    },
    {
     "cell_type": "code",
     "collapsed": false,
     "input": [
      "#MERGE MALE AND FEMALE UNEMPLOYMENT\n",
      "unemp = male_unemp_percent.merge(female_unemp_percent, left_index=True, right_index=True)"
     ],
     "language": "python",
     "metadata": {},
     "outputs": [],
     "prompt_number": 10
    },
    {
     "cell_type": "code",
     "collapsed": false,
     "input": [
      "unemp.head()"
     ],
     "language": "python",
     "metadata": {},
     "outputs": [
      {
       "html": [
        "<div style=\"max-height:1000px;max-width:1500px;overflow:auto;\">\n",
        "<table border=\"1\" class=\"dataframe\">\n",
        "  <thead>\n",
        "    <tr style=\"text-align: right;\">\n",
        "      <th></th>\n",
        "      <th>LNS14000001</th>\n",
        "      <th>LNS14000002</th>\n",
        "    </tr>\n",
        "    <tr>\n",
        "      <th>DATE</th>\n",
        "      <th></th>\n",
        "      <th></th>\n",
        "    </tr>\n",
        "  </thead>\n",
        "  <tbody>\n",
        "    <tr>\n",
        "      <td><strong>1949-01-01</strong></td>\n",
        "      <td> 4.2</td>\n",
        "      <td> 4.4</td>\n",
        "    </tr>\n",
        "    <tr>\n",
        "      <td><strong>1949-02-01</strong></td>\n",
        "      <td> 4.6</td>\n",
        "      <td> 4.8</td>\n",
        "    </tr>\n",
        "    <tr>\n",
        "      <td><strong>1949-03-01</strong></td>\n",
        "      <td> 5.1</td>\n",
        "      <td> 4.6</td>\n",
        "    </tr>\n",
        "    <tr>\n",
        "      <td><strong>1949-04-01</strong></td>\n",
        "      <td> 5.3</td>\n",
        "      <td> 5.5</td>\n",
        "    </tr>\n",
        "    <tr>\n",
        "      <td><strong>1949-05-01</strong></td>\n",
        "      <td> 6.1</td>\n",
        "      <td> 6.0</td>\n",
        "    </tr>\n",
        "  </tbody>\n",
        "</table>\n",
        "</div>"
       ],
       "output_type": "pyout",
       "prompt_number": 11,
       "text": [
        "            LNS14000001  LNS14000002\n",
        "DATE                                \n",
        "1949-01-01          4.2          4.4\n",
        "1949-02-01          4.6          4.8\n",
        "1949-03-01          5.1          4.6\n",
        "1949-04-01          5.3          5.5\n",
        "1949-05-01          6.1          6.0"
       ]
      }
     ],
     "prompt_number": 11
    },
    {
     "cell_type": "code",
     "collapsed": false,
     "input": [
      "#CALCULATE THE DIFFERENCE BETWEEN MALE AND FEMALE UNEMPLOYMENT PERCENTAGES\n",
      "difference= unemp['LNS14000001'] - unemp['LNS14000002']\n",
      "difference_before = difference[:407]\n",
      "difference_after = difference[407:]\n",
      "\n",
      "difference_before.plot()\n",
      "difference_after.plot(color='red')"
     ],
     "language": "python",
     "metadata": {},
     "outputs": [
      {
       "output_type": "pyout",
       "prompt_number": 12,
       "text": [
        "<matplotlib.axes.AxesSubplot at 0x11f87d30>"
       ]
      },
      {
       "output_type": "display_data",
       "png": "[encoded data removed]"
      }
     ],
     "prompt_number": 12
    },
    {
     "cell_type": "code",
     "collapsed": false,
     "input": [
      "#Describe, fit, and summarize the model for male & female unemployment\n",
      "ols_model_malefemale= ols(\"male_unemp_percent ~ female_unemp_percent\", data=unemp).fit()\n",
      "print ols_model_malefemale.summary()"
     ],
     "language": "python",
     "metadata": {},
     "outputs": [
      {
       "output_type": "stream",
       "stream": "stdout",
       "text": [
        "                            OLS Regression Results                            \n",
        "==============================================================================\n",
        "Dep. Variable:     male_unemp_percent   R-squared:                       0.733\n",
        "Model:                            OLS   Adj. R-squared:                  0.733\n",
        "Method:                 Least Squares   F-statistic:                     2116.\n",
        "Date:                Mon, 06 May 2013   Prob (F-statistic):          3.86e-223\n",
        "Time:                        07:28:11   Log-Likelihood:                -1076.0\n",
        "No. Observations:                 772   AIC:                             2156.\n",
        "Df Residuals:                     770   BIC:                             2165.\n",
        "Df Model:                           1                                         \n",
        "========================================================================================\n",
        "                           coef    std err          t      P>|t|      [95.0% Conf. Int.]\n",
        "----------------------------------------------------------------------------------------\n",
        "Intercept               -1.1756      0.153     -7.671      0.000        -1.476    -0.875\n",
        "female_unemp_percent     1.1150      0.024     46.005      0.000         1.067     1.163\n",
        "==============================================================================\n",
        "Omnibus:                       10.104   Durbin-Watson:                   0.095\n",
        "Prob(Omnibus):                  0.006   Jarque-Bera (JB):                6.396\n",
        "Skew:                          -0.002   Prob(JB):                       0.0408\n",
        "Kurtosis:                       2.554   Cond. No.                         28.2\n",
        "==============================================================================\n"
       ]
      }
     ],
     "prompt_number": 13
    },
    {
     "cell_type": "code",
     "collapsed": false,
     "input": [
      "malefemalestats = sm.stats.linear_rainbow(ols_model_malefemale)"
     ],
     "language": "python",
     "metadata": {},
     "outputs": [],
     "prompt_number": 14
    },
    {
     "cell_type": "code",
     "collapsed": false,
     "input": [
      "print malefemalestats"
     ],
     "language": "python",
     "metadata": {},
     "outputs": [
      {
       "output_type": "stream",
       "stream": "stdout",
       "text": [
        "(0.96516080445533237, 0.6359862834139447)\n"
       ]
      }
     ],
     "prompt_number": 15
    },
    {
     "cell_type": "code",
     "collapsed": false,
     "input": [
      "#MERGE THE MALE & FEMALE DATA WITH GROWTH RATE FOR INDUSTRIAL PRODUCTION\n",
      "okundata = unemp.merge(indust_prod, left_index=True, right_index=True)"
     ],
     "language": "python",
     "metadata": {},
     "outputs": [],
     "prompt_number": 16
    },
    {
     "cell_type": "code",
     "collapsed": false,
     "input": [
      "okundata.head(10)"
     ],
     "language": "python",
     "metadata": {},
     "outputs": [
      {
       "html": [
        "<div style=\"max-height:1000px;max-width:1500px;overflow:auto;\">\n",
        "<table border=\"1\" class=\"dataframe\">\n",
        "  <thead>\n",
        "    <tr style=\"text-align: right;\">\n",
        "      <th></th>\n",
        "      <th>LNS14000001</th>\n",
        "      <th>LNS14000002</th>\n",
        "      <th>INDPRO</th>\n",
        "    </tr>\n",
        "    <tr>\n",
        "      <th>DATE</th>\n",
        "      <th></th>\n",
        "      <th></th>\n",
        "      <th></th>\n",
        "    </tr>\n",
        "  </thead>\n",
        "  <tbody>\n",
        "    <tr>\n",
        "      <td><strong>1949-01-01</strong></td>\n",
        "      <td> 4.2</td>\n",
        "      <td> 4.4</td>\n",
        "      <td> 14.1162</td>\n",
        "    </tr>\n",
        "    <tr>\n",
        "      <td><strong>1949-02-01</strong></td>\n",
        "      <td> 4.6</td>\n",
        "      <td> 4.8</td>\n",
        "      <td> 13.9820</td>\n",
        "    </tr>\n",
        "    <tr>\n",
        "      <td><strong>1949-03-01</strong></td>\n",
        "      <td> 5.1</td>\n",
        "      <td> 4.6</td>\n",
        "      <td> 13.7137</td>\n",
        "    </tr>\n",
        "    <tr>\n",
        "      <td><strong>1949-04-01</strong></td>\n",
        "      <td> 5.3</td>\n",
        "      <td> 5.5</td>\n",
        "      <td> 13.6332</td>\n",
        "    </tr>\n",
        "    <tr>\n",
        "      <td><strong>1949-05-01</strong></td>\n",
        "      <td> 6.1</td>\n",
        "      <td> 6.0</td>\n",
        "      <td> 13.4453</td>\n",
        "    </tr>\n",
        "    <tr>\n",
        "      <td><strong>1949-06-01</strong></td>\n",
        "      <td> 6.2</td>\n",
        "      <td> 6.2</td>\n",
        "      <td> 13.4185</td>\n",
        "    </tr>\n",
        "    <tr>\n",
        "      <td><strong>1949-07-01</strong></td>\n",
        "      <td> 6.7</td>\n",
        "      <td> 6.8</td>\n",
        "      <td> 13.3916</td>\n",
        "    </tr>\n",
        "    <tr>\n",
        "      <td><strong>1949-08-01</strong></td>\n",
        "      <td> 6.8</td>\n",
        "      <td> 6.8</td>\n",
        "      <td> 13.5258</td>\n",
        "    </tr>\n",
        "    <tr>\n",
        "      <td><strong>1949-09-01</strong></td>\n",
        "      <td> 6.5</td>\n",
        "      <td> 6.8</td>\n",
        "      <td> 13.6600</td>\n",
        "    </tr>\n",
        "    <tr>\n",
        "      <td><strong>1949-10-01</strong></td>\n",
        "      <td> 8.4</td>\n",
        "      <td> 6.8</td>\n",
        "      <td> 13.1501</td>\n",
        "    </tr>\n",
        "  </tbody>\n",
        "</table>\n",
        "</div>"
       ],
       "output_type": "pyout",
       "prompt_number": 17,
       "text": [
        "            LNS14000001  LNS14000002   INDPRO\n",
        "DATE                                         \n",
        "1949-01-01          4.2          4.4  14.1162\n",
        "1949-02-01          4.6          4.8  13.9820\n",
        "1949-03-01          5.1          4.6  13.7137\n",
        "1949-04-01          5.3          5.5  13.6332\n",
        "1949-05-01          6.1          6.0  13.4453\n",
        "1949-06-01          6.2          6.2  13.4185\n",
        "1949-07-01          6.7          6.8  13.3916\n",
        "1949-08-01          6.8          6.8  13.5258\n",
        "1949-09-01          6.5          6.8  13.6600\n",
        "1949-10-01          8.4          6.8  13.1501"
       ]
      }
     ],
     "prompt_number": 17
    },
    {
     "cell_type": "code",
     "collapsed": false,
     "input": [
      "#USING ALL OF THE DATA:\n",
      "#REGRESS GROWTH RATE OF INDUSTRIAL PRODUCTION AND MALE UNEMPLOYMENT \n",
      "ols_model_male = ols(\"INDPRO ~ LNS14000001\", data=okundata).fit()\n",
      "\n",
      "print ols_model_male.summary()"
     ],
     "language": "python",
     "metadata": {},
     "outputs": [
      {
       "output_type": "stream",
       "stream": "stdout",
       "text": [
        "                            OLS Regression Results                            \n",
        "==============================================================================\n",
        "Dep. Variable:                 INDPRO   R-squared:                       0.106\n",
        "Model:                            OLS   Adj. R-squared:                  0.105\n",
        "Method:                 Least Squares   F-statistic:                     91.10\n",
        "Date:                Mon, 06 May 2013   Prob (F-statistic):           1.77e-20\n",
        "Time:                        07:28:12   Log-Likelihood:                -3581.9\n",
        "No. Observations:                 771   AIC:                             7168.\n",
        "Df Residuals:                     769   BIC:                             7177.\n",
        "Df Model:                           1                                         \n",
        "===============================================================================\n",
        "                  coef    std err          t      P>|t|      [95.0% Conf. Int.]\n",
        "-------------------------------------------------------------------------------\n",
        "Intercept      27.6076      2.883      9.576      0.000        21.948    33.267\n",
        "LNS14000001     4.5945      0.481      9.544      0.000         3.650     5.540\n",
        "==============================================================================\n",
        "Omnibus:                       93.084   Durbin-Watson:                   0.003\n",
        "Prob(Omnibus):                  0.000   Jarque-Bera (JB):               47.132\n",
        "Skew:                           0.443   Prob(JB):                     5.83e-11\n",
        "Kurtosis:                       2.175   Cond. No.                         19.5\n",
        "==============================================================================\n"
       ]
      }
     ],
     "prompt_number": 18
    },
    {
     "cell_type": "code",
     "collapsed": false,
     "input": [
      "#USING ALL OF THE DATA:\n",
      "#REGRESS GROWTH RATE OF INDUSTRIAL PRODUCTION AND FEMALE UNEMPLOYMENT \n",
      "ols_model_female = ols(\"INDPRO ~ LNS14000002\", data=okundata).fit()\n",
      "print ols_model_female.summary()"
     ],
     "language": "python",
     "metadata": {},
     "outputs": [
      {
       "output_type": "stream",
       "stream": "stdout",
       "text": [
        "                            OLS Regression Results                            \n",
        "==============================================================================\n",
        "Dep. Variable:                 INDPRO   R-squared:                       0.001\n",
        "Model:                            OLS   Adj. R-squared:                 -0.000\n",
        "Method:                 Least Squares   F-statistic:                    0.6833\n",
        "Date:                Mon, 06 May 2013   Prob (F-statistic):              0.409\n",
        "Time:                        07:28:12   Log-Likelihood:                -3624.8\n",
        "No. Observations:                 771   AIC:                             7254.\n",
        "Df Residuals:                     769   BIC:                             7263.\n",
        "Df Model:                           1                                         \n",
        "===============================================================================\n",
        "                  coef    std err          t      P>|t|      [95.0% Conf. Int.]\n",
        "-------------------------------------------------------------------------------\n",
        "Intercept      50.3534      4.187     12.025      0.000        42.133    58.573\n",
        "LNS14000002     0.5476      0.662      0.827      0.409        -0.753     1.848\n",
        "==============================================================================\n",
        "Omnibus:                      512.683   Durbin-Watson:                   0.000\n",
        "Prob(Omnibus):                  0.000   Jarque-Bera (JB):               56.756\n",
        "Skew:                           0.296   Prob(JB):                     4.74e-13\n",
        "Kurtosis:                       1.810   Cond. No.                         28.2\n",
        "==============================================================================\n"
       ]
      }
     ],
     "prompt_number": 19
    },
    {
     "cell_type": "code",
     "collapsed": false,
     "input": [
      "#SPLIT THE DATA FOR BEFORE 1983 AND AFTER 1983\n",
      "pieces = [okundata[:407], okundata[407:]]"
     ],
     "language": "python",
     "metadata": {},
     "outputs": [],
     "prompt_number": 20
    },
    {
     "cell_type": "code",
     "collapsed": false,
     "input": [
      "#USING THE SPLIT DATA BEFORE 1983:\n",
      "#REGRESS GROWTH RATE OF INDUSTRIAL PRODUCTION AND MALE UNEMPLOYMENT \n",
      "ols_model_male2 = ols(\"INDPRO ~ LNS14000001\", data=pieces[0]).fit()\n",
      "\n",
      "print ols_model_male2.summary()"
     ],
     "language": "python",
     "metadata": {},
     "outputs": [
      {
       "output_type": "stream",
       "stream": "stdout",
       "text": [
        "                            OLS Regression Results                            \n",
        "==============================================================================\n",
        "Dep. Variable:                 INDPRO   R-squared:                       0.117\n",
        "Model:                            OLS   Adj. R-squared:                  0.114\n",
        "Method:                 Least Squares   F-statistic:                     53.47\n",
        "Date:                Mon, 06 May 2013   Prob (F-statistic):           1.41e-12\n",
        "Time:                        07:28:12   Log-Likelihood:                -1563.7\n",
        "No. Observations:                 407   AIC:                             3131.\n",
        "Df Residuals:                     405   BIC:                             3139.\n",
        "Df Model:                           1                                         \n",
        "===============================================================================\n",
        "                  coef    std err          t      P>|t|      [95.0% Conf. Int.]\n",
        "-------------------------------------------------------------------------------\n",
        "Intercept      20.1296      1.765     11.404      0.000        16.660    23.600\n",
        "LNS14000001     2.4374      0.333      7.313      0.000         1.782     3.093\n",
        "==============================================================================\n",
        "Omnibus:                      212.274   Durbin-Watson:                   0.006\n",
        "Prob(Omnibus):                  0.000   Jarque-Bera (JB):               24.012\n",
        "Skew:                          -0.079   Prob(JB):                     6.11e-06\n",
        "Kurtosis:                       1.821   Cond. No.                         17.2\n",
        "==============================================================================\n"
       ]
      }
     ],
     "prompt_number": 21
    },
    {
     "cell_type": "code",
     "collapsed": false,
     "input": [
      "#USING THE SPLIT DATA AFTER 1983:\n",
      "#REGRESS GROWTH RATE OF INDUSTRIAL PRODUCTION AND MALE UNEMPLOYMENT \n",
      "ols_model_male3 = ols(\"INDPRO ~ LNS14000001\", data=pieces[1]).fit()\n",
      "\n",
      "print ols_model_male3.summary()"
     ],
     "language": "python",
     "metadata": {},
     "outputs": [
      {
       "output_type": "stream",
       "stream": "stdout",
       "text": [
        "                            OLS Regression Results                            \n",
        "==============================================================================\n",
        "Dep. Variable:                 INDPRO   R-squared:                       0.048\n",
        "Model:                            OLS   Adj. R-squared:                  0.045\n",
        "Method:                 Least Squares   F-statistic:                     18.18\n",
        "Date:                Mon, 06 May 2013   Prob (F-statistic):           2.56e-05\n",
        "Time:                        07:28:12   Log-Likelihood:                -1522.3\n",
        "No. Observations:                 364   AIC:                             3049.\n",
        "Df Residuals:                     362   BIC:                             3056.\n",
        "Df Model:                           1                                         \n",
        "===============================================================================\n",
        "                  coef    std err          t      P>|t|      [95.0% Conf. Int.]\n",
        "-------------------------------------------------------------------------------\n",
        "Intercept      90.0651      3.040     29.625      0.000        84.087    96.044\n",
        "LNS14000001    -1.9407      0.455     -4.264      0.000        -2.836    -1.046\n",
        "==============================================================================\n",
        "Omnibus:                        0.143   Durbin-Watson:                   0.001\n",
        "Prob(Omnibus):                  0.931   Jarque-Bera (JB):               37.061\n",
        "Skew:                          -0.048   Prob(JB):                     8.96e-09\n",
        "Kurtosis:                       1.440   Cond. No.                         24.9\n",
        "==============================================================================\n"
       ]
      }
     ],
     "prompt_number": 22
    },
    {
     "cell_type": "code",
     "collapsed": false,
     "input": [
      "#USING THE SPLIT DATA BEFORE 1983:\n",
      "#REGRESS GROWTH RATE OF INDUSTRIAL PRODUCTION AND FEMALE UNEMPLOYMENT \n",
      "ols_model_female2 = ols(\"INDPRO ~ LNS14000002\", data=pieces[0]).fit()\n",
      "\n",
      "print ols_model_female2.summary()"
     ],
     "language": "python",
     "metadata": {},
     "outputs": [
      {
       "output_type": "stream",
       "stream": "stdout",
       "text": [
        "                            OLS Regression Results                            \n",
        "==============================================================================\n",
        "Dep. Variable:                 INDPRO   R-squared:                       0.341\n",
        "Model:                            OLS   Adj. R-squared:                  0.340\n",
        "Method:                 Least Squares   F-statistic:                     209.7\n",
        "Date:                Mon, 06 May 2013   Prob (F-statistic):           1.35e-38\n",
        "Time:                        07:28:12   Log-Likelihood:                -1504.0\n",
        "No. Observations:                 407   AIC:                             3012.\n",
        "Df Residuals:                     405   BIC:                             3020.\n",
        "Df Model:                           1                                         \n",
        "===============================================================================\n",
        "                  coef    std err          t      P>|t|      [95.0% Conf. Int.]\n",
        "-------------------------------------------------------------------------------\n",
        "Intercept       3.1330      2.076      1.509      0.132        -0.948     7.214\n",
        "LNS14000002     4.7383      0.327     14.482      0.000         4.095     5.382\n",
        "==============================================================================\n",
        "Omnibus:                       53.184   Durbin-Watson:                   0.026\n",
        "Prob(Omnibus):                  0.000   Jarque-Bera (JB):               15.120\n",
        "Skew:                          -0.121   Prob(JB):                     0.000521\n",
        "Kurtosis:                       2.087   Cond. No.                         27.9\n",
        "==============================================================================\n"
       ]
      }
     ],
     "prompt_number": 23
    },
    {
     "cell_type": "code",
     "collapsed": false,
     "input": [
      "#USING THE SPLIT DATA AFTER 1983:\n",
      "#REGRESS GROWTH RATE OF INDUSTRIAL PRODUCTION AND FEMALE UNEMPLOYMENT \n",
      "ols_model_female3 = ols(\"INDPRO ~ LNS14000002\", data=pieces[1]).fit()\n",
      "\n",
      "print ols_model_female3.summary()"
     ],
     "language": "python",
     "metadata": {},
     "outputs": [
      {
       "output_type": "stream",
       "stream": "stdout",
       "text": [
        "                            OLS Regression Results                            \n",
        "==============================================================================\n",
        "Dep. Variable:                 INDPRO   R-squared:                       0.129\n",
        "Model:                            OLS   Adj. R-squared:                  0.127\n",
        "Method:                 Least Squares   F-statistic:                     53.71\n",
        "Date:                Mon, 06 May 2013   Prob (F-statistic):           1.53e-12\n",
        "Time:                        07:28:12   Log-Likelihood:                -1506.0\n",
        "No. Observations:                 364   AIC:                             3016.\n",
        "Df Residuals:                     362   BIC:                             3024.\n",
        "Df Model:                           1                                         \n",
        "===============================================================================\n",
        "                  coef    std err          t      P>|t|      [95.0% Conf. Int.]\n",
        "-------------------------------------------------------------------------------\n",
        "Intercept     102.8687      3.539     29.066      0.000        95.909   109.829\n",
        "LNS14000002    -4.1204      0.562     -7.329      0.000        -5.226    -3.015\n",
        "==============================================================================\n",
        "Omnibus:                      572.669   Durbin-Watson:                   0.003\n",
        "Prob(Omnibus):                  0.000   Jarque-Bera (JB):               28.774\n",
        "Skew:                           0.198   Prob(JB):                     5.65e-07\n",
        "Kurtosis:                       1.681   Cond. No.                         28.6\n",
        "==============================================================================\n"
       ]
      }
     ],
     "prompt_number": 24
    },
    {
     "cell_type": "code",
     "collapsed": false,
     "input": [
      "#SPLIT THE DATA FOR AFTER THE RECESSION STARTING DEC 2007\n",
      "recessiondata = okundata.ix[707:771]"
     ],
     "language": "python",
     "metadata": {},
     "outputs": [],
     "prompt_number": 44
    },
    {
     "cell_type": "code",
     "collapsed": false,
     "input": [
      "ols_model_RECmale = ols(\"INDPRO ~ LNS14000001\", data=recessiondata).fit()\n",
      "\n",
      "print ols_model_RECmale.summary()"
     ],
     "language": "python",
     "metadata": {},
     "outputs": [
      {
       "output_type": "stream",
       "stream": "stdout",
       "text": [
        "                            OLS Regression Results                            \n",
        "==============================================================================\n",
        "Dep. Variable:                 INDPRO   R-squared:                       0.641\n",
        "Model:                            OLS   Adj. R-squared:                  0.635\n",
        "Method:                 Least Squares   F-statistic:                     110.7\n",
        "Date:                Mon, 06 May 2013   Prob (F-statistic):           2.01e-15\n",
        "Time:                        08:51:32   Log-Likelihood:                -157.73\n",
        "No. Observations:                  64   AIC:                             319.5\n",
        "Df Residuals:                      62   BIC:                             323.8\n",
        "Df Model:                           1                                         \n",
        "===============================================================================\n",
        "                  coef    std err          t      P>|t|      [95.0% Conf. Int.]\n",
        "-------------------------------------------------------------------------------\n",
        "Intercept     112.4288      1.869     60.164      0.000       108.693   116.164\n",
        "LNS14000001    -2.1932      0.208    -10.523      0.000        -2.610    -1.777\n",
        "==============================================================================\n",
        "Omnibus:                        7.833   Durbin-Watson:                   0.067\n",
        "Prob(Omnibus):                  0.020   Jarque-Bera (JB):                7.161\n",
        "Skew:                          -0.743   Prob(JB):                       0.0279\n",
        "Kurtosis:                       2.308   Cond. No.                         46.9\n",
        "==============================================================================\n"
       ]
      }
     ],
     "prompt_number": 45
    },
    {
     "cell_type": "code",
     "collapsed": false,
     "input": [
      "ols_model_RECfemale = ols(\"INDPRO ~ LNS14000002\", data=recessiondata).fit()\n",
      "\n",
      "print ols_model_RECfemale.summary()"
     ],
     "language": "python",
     "metadata": {},
     "outputs": [
      {
       "output_type": "stream",
       "stream": "stdout",
       "text": [
        "                            OLS Regression Results                            \n",
        "==============================================================================\n",
        "Dep. Variable:                 INDPRO   R-squared:                       0.253\n",
        "Model:                            OLS   Adj. R-squared:                  0.241\n",
        "Method:                 Least Squares   F-statistic:                     21.05\n",
        "Date:                Mon, 06 May 2013   Prob (F-statistic):           2.23e-05\n",
        "Time:                        08:51:52   Log-Likelihood:                -181.16\n",
        "No. Observations:                  64   AIC:                             366.3\n",
        "Df Residuals:                      62   BIC:                             370.6\n",
        "Df Model:                           1                                         \n",
        "===============================================================================\n",
        "                  coef    std err          t      P>|t|      [95.0% Conf. Int.]\n",
        "-------------------------------------------------------------------------------\n",
        "Intercept     107.9200      3.265     33.057      0.000       101.394   114.446\n",
        "LNS14000002    -1.9322      0.421     -4.588      0.000        -2.774    -1.090\n",
        "==============================================================================\n",
        "Omnibus:                        6.841   Durbin-Watson:                   0.048\n",
        "Prob(Omnibus):                  0.033   Jarque-Bera (JB):                5.281\n",
        "Skew:                          -0.585   Prob(JB):                       0.0713\n",
        "Kurtosis:                       2.217   Cond. No.                         49.3\n",
        "==============================================================================\n"
       ]
      }
     ],
     "prompt_number": 47
    }
   ],
   "metadata": {}
  }
 ]
}